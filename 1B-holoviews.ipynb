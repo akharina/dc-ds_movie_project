{
 "cells": [
  {
   "cell_type": "code",
   "execution_count": null,
   "metadata": {},
   "outputs": [],
   "source": [
    "import pandas as pd\n",
    "import numpy as np\n",
    "import matplotlib.pyplot as plt\n",
    "\n",
    "%matplotlib inline\n",
    "\n",
    "# I like the default Matplotlib palette\n",
    "colors = ['#1f77b4', '#ff7f0e', '#2ca02c', '#d62728',\n",
    "          '#9467bd', '#8c564b', '#e377c2', '#7f7f7f',\n",
    "          '#bcbd22', '#17becf']\n",
    "\n",
    "!pip install holoviews\n",
    "import holoviews as hv\n",
    "\n",
    "import bokeh.io\n",
    "bokeh.io.output_notebook()\n",
    "hv.extension('bokeh')"
   ]
  },
  {
   "cell_type": "code",
   "execution_count": null,
   "metadata": {},
   "outputs": [],
   "source": [
    "df = pd.read_csv('data/final/movie_dataset_df.csv.gz')\n",
    "df['date'] = pd.to_datetime(df['date'])\n",
    "df.info()"
   ]
  },
  {
   "cell_type": "code",
   "execution_count": null,
   "metadata": {},
   "outputs": [],
   "source": [
    "# import bokeh libraries\n",
    "from bokeh.io import output_file, output_notebook\n",
    "from bokeh.plotting import figure, show\n",
    "from bokeh.models import ColumnDataSource, CDSView, GroupFilter\n",
    "from bokeh.layouts import row, column, gridplot\n",
    "from bokeh.models.widgets import Tabs, Panel\n",
    "from bokeh.plotting import reset_output\n",
    "from bokeh.models import HoverTool\n",
    "from bokeh.layouts import layout\n",
    "from bokeh.layouts import widgetbox"
   ]
  },
  {
   "cell_type": "code",
   "execution_count": null,
   "metadata": {},
   "outputs": [],
   "source": [
    "# visualization options\n",
    "# output_file(\"bokeh.html\")\n",
    "output_notebook()"
   ]
  },
  {
   "cell_type": "code",
   "execution_count": null,
   "metadata": {},
   "outputs": [],
   "source": [
    "import yaml \n",
    "\n",
    "def _select_list_item(_list_obj):\n",
    "#     print(yaml.load(_list_obj))\n",
    "    try:\n",
    "        return yaml.load(_list_obj)[0]\n",
    "    except:\n",
    "        return np.nan\n",
    "\n",
    "df[\"prod_country_1\"] = df[\"COUNTRIES\"].apply(_select_list_item)\n",
    "df[\"prod_country_1\"].head()"
   ]
  },
  {
   "cell_type": "code",
   "execution_count": null,
   "metadata": {
    "scrolled": true
   },
   "outputs": [],
   "source": [
    "hv.output(max_frames = 10000)\n",
    "\n",
    "# filter by \"budget exists\"\n",
    "filter_1 = df[\"BUDGET_MIL\"] > 1\n",
    "\n",
    "# filter by \"budget less than 6 mil\"\n",
    "filter_2 = df[\"BUDGET_MIL\"] < 6\n",
    "\n",
    "# filter by \"revenue exists\"\n",
    "filter_3 = df[\"REVENUE_MIL\"] > 1\n",
    "\n",
    "# filter by \"recent\"\n",
    "filter_4 = df[\"YEAR\"] > 1999\n",
    "filter_5 = df[\"YEAR\"] < 2018\n",
    "\n",
    "df_temp = df[filter_1 & filter_2 & filter_3 & filter_4 & filter_5]\n",
    "\n",
    "#plt.figure(figsize=(20,10))\n",
    "\n",
    "scatter = hv.Scatter(\n",
    "    df_temp,\n",
    "    kdims=[\"BUDGET_MIL\", \"REVENUE_MIL\"],\n",
    "    vdims=[\"prod_country_1\", \"YEAR\"]\n",
    ").groupby([\"prod_country_1\", \"YEAR\"]\n",
    ").opts(\n",
    "    tools=['hover']\n",
    ")\n",
    "\n",
    "scatter"
   ]
  },
  {
   "cell_type": "code",
   "execution_count": null,
   "metadata": {},
   "outputs": [],
   "source": []
  }
 ],
 "metadata": {
  "kernelspec": {
   "display_name": "Python 3",
   "language": "python",
   "name": "python3"
  },
  "language_info": {
   "codemirror_mode": {
    "name": "ipython",
    "version": 3
   },
   "file_extension": ".py",
   "mimetype": "text/x-python",
   "name": "python",
   "nbconvert_exporter": "python",
   "pygments_lexer": "ipython3",
   "version": "3.7.3"
  }
 },
 "nbformat": 4,
 "nbformat_minor": 2
}
