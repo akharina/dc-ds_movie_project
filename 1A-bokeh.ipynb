{
 "cells": [
  {
   "cell_type": "code",
   "execution_count": null,
   "metadata": {},
   "outputs": [],
   "source": [
    "import pandas as pd\n",
    "import numpy as np\n",
    "import matplotlib.pyplot as plt\n",
    "\n",
    "%matplotlib inline\n",
    "\n",
    "# I like the default Matplotlib palette\n",
    "colors = ['#1f77b4', '#ff7f0e', '#2ca02c', '#d62728',\n",
    "          '#9467bd', '#8c564b', '#e377c2', '#7f7f7f',\n",
    "          '#bcbd22', '#17becf']\n",
    "\n",
    "!pip install holoviews\n",
    "import holoviews as hv\n",
    "\n",
    "import bokeh.io\n",
    "bokeh.io.output_notebook()\n",
    "hv.extension('bokeh')"
   ]
  },
  {
   "cell_type": "code",
   "execution_count": null,
   "metadata": {},
   "outputs": [],
   "source": [
    "df = pd.read_csv('data/final/movie_dataset_df.csv.gz')\n",
    "df['date'] = pd.to_datetime(df['date'])\n",
    "df.info()"
   ]
  },
  {
   "cell_type": "code",
   "execution_count": null,
   "metadata": {},
   "outputs": [],
   "source": [
    "# import bokeh libraries\n",
    "from bokeh.io import output_file, output_notebook\n",
    "from bokeh.plotting import figure, show\n",
    "from bokeh.models import ColumnDataSource, CDSView, GroupFilter\n",
    "from bokeh.layouts import row, column, gridplot\n",
    "from bokeh.models.widgets import Tabs, Panel\n",
    "from bokeh.plotting import reset_output\n",
    "from bokeh.models import HoverTool\n",
    "from bokeh.layouts import layout\n",
    "from bokeh.layouts import widgetbox"
   ]
  },
  {
   "cell_type": "code",
   "execution_count": null,
   "metadata": {
    "scrolled": true
   },
   "outputs": [],
   "source": [
    "# visualization options\n",
    "# output_file(\"bokeh.html\")\n",
    "output_notebook()"
   ]
  },
  {
   "cell_type": "code",
   "execution_count": null,
   "metadata": {},
   "outputs": [],
   "source": [
    "def _budget_type(value):\n",
    "    if value < 6 and value > 1:\n",
    "        return \"small\"\n",
    "    else:\n",
    "        return \"large\"\n",
    "\n",
    "df[\"budget_type\"] = df[\"BUDGET_MIL\"].apply(_budget_type)\n",
    "\n",
    "df[\"budget_type\"].value_counts()"
   ]
  },
  {
   "cell_type": "code",
   "execution_count": null,
   "metadata": {},
   "outputs": [],
   "source": [
    "### show all movies in blue\n",
    "### and the small-budget movies in orange\n",
    "\n",
    "\n",
    "fig = figure(\n",
    "    title='My Coordinates',\n",
    "    plot_height=600, plot_width=600,\n",
    "    x_axis_label='budget', y_axis_label='revenue',\n",
    "    x_range = (-2.0, 8.0), y_range = (-50.0, 650),\n",
    ")\n",
    "\n",
    "movie_data = ColumnDataSource(df)\n",
    "\n",
    "movie_la = CDSView(\n",
    "    source=movie_data,\n",
    "    filters=[GroupFilter(column_name='budget_type', group='large')])\n",
    "\n",
    "movie_sm = CDSView(\n",
    "    source=movie_data,\n",
    "    filters=[GroupFilter(column_name='budget_type', group='small')])\n",
    "\n",
    "fig.circle(\n",
    "    source = movie_data,\n",
    "    x = \"BUDGET_MIL\",\n",
    "    y = \"REVENUE_MIL\",\n",
    "    color='black',\n",
    "    size=2,\n",
    "    alpha=0.5,\n",
    ")\n",
    "\n",
    "fig.circle(\n",
    "    source = movie_data,\n",
    "    view = movie_la,\n",
    "    x = \"BUDGET_MIL\",\n",
    "    y = \"REVENUE_MIL\",\n",
    "    color=colors[0],\n",
    "    size=10,\n",
    "    alpha=0.2,\n",
    ")\n",
    "\n",
    "fig.circle(\n",
    "    source = movie_data,\n",
    "    view = movie_sm,\n",
    "    x = \"BUDGET_MIL\",\n",
    "    y = \"REVENUE_MIL\",\n",
    "    color=colors[1],\n",
    "    size=10,\n",
    "    alpha=0.2,\n",
    ")\n",
    "\n",
    "tooltips = [\n",
    "    ('Title',  '@title'),\n",
    "    ('Date',   '@YEAR'),\n",
    "    ('Budget', '@BUDGET_MIL'),\n",
    "    ('Revenue','@REVENUE_MIL'),\n",
    "]\n",
    "\n",
    "# Add the HoverTool to the figure\n",
    "fig.add_tools(HoverTool(tooltips=tooltips))\n",
    "\n",
    "# Show plot\n",
    "show(fig)"
   ]
  },
  {
   "cell_type": "code",
   "execution_count": null,
   "metadata": {},
   "outputs": [],
   "source": []
  }
 ],
 "metadata": {
  "kernelspec": {
   "display_name": "Python 3",
   "language": "python",
   "name": "python3"
  },
  "language_info": {
   "codemirror_mode": {
    "name": "ipython",
    "version": 3
   },
   "file_extension": ".py",
   "mimetype": "text/x-python",
   "name": "python",
   "nbconvert_exporter": "python",
   "pygments_lexer": "ipython3",
   "version": "3.7.3"
  }
 },
 "nbformat": 4,
 "nbformat_minor": 2
}
