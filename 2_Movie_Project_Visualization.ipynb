{
 "cells": [
  {
   "cell_type": "code",
   "execution_count": 1,
   "metadata": {},
   "outputs": [],
   "source": [
    "import pandas as pd\n",
    "import numpy as np\n",
    "import matplotlib.pyplot as plt\n",
    "\n",
    "%matplotlib inline"
   ]
  },
  {
   "cell_type": "code",
   "execution_count": 5,
   "metadata": {},
   "outputs": [
    {
     "name": "stdout",
     "output_type": "stream",
     "text": [
      "<class 'pandas.core.frame.DataFrame'>\n",
      "RangeIndex: 45460 entries, 0 to 45459\n",
      "Data columns (total 22 columns):\n",
      "adult                45460 non-null bool\n",
      "budget               45460 non-null int64\n",
      "kaggle_id            45460 non-null int64\n",
      "imdb_id              45443 non-null object\n",
      "original_language    45449 non-null object\n",
      "original_title       45460 non-null object\n",
      "overview             44506 non-null object\n",
      "popularity           45460 non-null float64\n",
      "date                 45460 non-null datetime64[ns]\n",
      "revenue              45460 non-null float64\n",
      "runtime              45203 non-null float64\n",
      "status               45379 non-null object\n",
      "tagline              20412 non-null object\n",
      "title                45460 non-null object\n",
      "video                45460 non-null bool\n",
      "vote_avg             45460 non-null float64\n",
      "vote_count           45460 non-null float64\n",
      "GENRES               45460 non-null object\n",
      "COLLECTION           4490 non-null object\n",
      "LANGUAGES            45460 non-null object\n",
      "PRODUCER             45460 non-null object\n",
      "COUNTRIES            45460 non-null object\n",
      "dtypes: bool(2), datetime64[ns](1), float64(5), int64(2), object(12)\n",
      "memory usage: 7.0+ MB\n"
     ]
    }
   ],
   "source": [
    "#Import dataframe \n",
    "df = pd.read_csv('data/temp/movie_df')\n",
    "df['date'] = pd.to_datetime(df['date'])\n",
    "df.info()\n"
   ]
  },
  {
   "cell_type": "code",
   "execution_count": 6,
   "metadata": {},
   "outputs": [
    {
     "data": {
      "text/plain": [
       "(array([4.3915e+04, 9.5800e+02, 3.0200e+02, 1.6200e+02, 6.2000e+01,\n",
       "        3.8000e+01, 1.9000e+01, 3.0000e+00, 0.0000e+00, 1.0000e+00]),\n",
       " array([0.00e+00, 3.80e+07, 7.60e+07, 1.14e+08, 1.52e+08, 1.90e+08,\n",
       "        2.28e+08, 2.66e+08, 3.04e+08, 3.42e+08, 3.80e+08]),\n",
       " <a list of 10 Patch objects>)"
      ]
     },
     "execution_count": 6,
     "metadata": {},
     "output_type": "execute_result"
    },
    {
     "data": {
      "image/png": "[encoded data removed]",
      "text/plain": [
       "<Figure size 432x288 with 1 Axes>"
      ]
     },
     "metadata": {
      "needs_background": "light"
     },
     "output_type": "display_data"
    }
   ],
   "source": [
    "plt.hist(df['budget'])"
   ]
  },
  {
   "cell_type": "code",
   "execution_count": null,
   "metadata": {},
   "outputs": [],
   "source": []
  }
 ],
 "metadata": {
  "kernelspec": {
   "display_name": "Python 3",
   "language": "python",
   "name": "python3"
  },
  "language_info": {
   "codemirror_mode": {
    "name": "ipython",
    "version": 3
   },
   "file_extension": ".py",
   "mimetype": "text/x-python",
   "name": "python",
   "nbconvert_exporter": "python",
   "pygments_lexer": "ipython3",
   "version": "3.7.3"
  }
 },
 "nbformat": 4,
 "nbformat_minor": 2
}
