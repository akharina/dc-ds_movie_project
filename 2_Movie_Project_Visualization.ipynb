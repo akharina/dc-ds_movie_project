{
 "cells": [
  {
   "cell_type": "code",
   "execution_count": 1,
   "metadata": {},
   "outputs": [],
   "source": [
    "import pandas as pd\n",
    "import numpy as np\n",
    "import matplotlib.pyplot as plt\n",
    "\n",
    "%matplotlib inline"
   ]
  },
  {
   "cell_type": "code",
   "execution_count": 2,
   "metadata": {},
   "outputs": [
    {
     "name": "stdout",
     "output_type": "stream",
     "text": [
      "<class 'pandas.core.frame.DataFrame'>\n",
      "RangeIndex: 45443 entries, 0 to 45442\n",
      "Data columns (total 22 columns):\n",
      "adult                45443 non-null bool\n",
      "budget               45443 non-null int64\n",
      "kaggle_id            45443 non-null int64\n",
      "imdb_id              45443 non-null object\n",
      "original_language    45432 non-null object\n",
      "original_title       45443 non-null object\n",
      "overview             44491 non-null object\n",
      "popularity           45443 non-null float64\n",
      "date                 45443 non-null datetime64[ns]\n",
      "revenue              45443 non-null float64\n",
      "runtime              45188 non-null float64\n",
      "status               45362 non-null object\n",
      "tagline              20408 non-null object\n",
      "title                45443 non-null object\n",
      "video                45443 non-null bool\n",
      "vote_avg             45443 non-null float64\n",
      "vote_count           45443 non-null float64\n",
      "GENRES               45443 non-null object\n",
      "COLLECTION           4488 non-null object\n",
      "LANGUAGES            45443 non-null object\n",
      "PRODUCER             45443 non-null object\n",
      "COUNTRIES            45443 non-null object\n",
      "dtypes: bool(2), datetime64[ns](1), float64(5), int64(2), object(12)\n",
      "memory usage: 7.0+ MB\n"
     ]
    }
   ],
   "source": [
    "#Import main dataframe \n",
    "df = pd.read_csv('data/temp/movie_df')\n",
    "df['date'] = pd.to_datetime(df['date'])\n",
    "df.info()\n",
    "\n",
    "#note: there is a second dataframe that only includes entries with 'budget' and 'revenue' > $500\n"
   ]
  },
  {
   "cell_type": "code",
   "execution_count": 3,
   "metadata": {},
   "outputs": [
    {
     "name": "stdout",
     "output_type": "stream",
     "text": [
      "<class 'pandas.core.frame.DataFrame'>\n",
      "RangeIndex: 5312 entries, 0 to 5311\n",
      "Data columns (total 22 columns):\n",
      "adult                5312 non-null bool\n",
      "budget               5312 non-null int64\n",
      "kaggle_id            5312 non-null int64\n",
      "imdb_id              5312 non-null object\n",
      "original_language    5312 non-null object\n",
      "original_title       5312 non-null object\n",
      "overview             5302 non-null object\n",
      "popularity           5312 non-null float64\n",
      "date                 5312 non-null datetime64[ns]\n",
      "revenue              5312 non-null float64\n",
      "runtime              5311 non-null float64\n",
      "status               5312 non-null object\n",
      "tagline              4587 non-null object\n",
      "title                5312 non-null object\n",
      "video                5312 non-null bool\n",
      "vote_avg             5312 non-null float64\n",
      "vote_count           5312 non-null float64\n",
      "GENRES               5312 non-null object\n",
      "COLLECTION           1220 non-null object\n",
      "LANGUAGES            5312 non-null object\n",
      "PRODUCER             5312 non-null object\n",
      "COUNTRIES            5312 non-null object\n",
      "dtypes: bool(2), datetime64[ns](1), float64(5), int64(2), object(12)\n",
      "memory usage: 840.5+ KB\n"
     ]
    }
   ],
   "source": [
    "#Importing df subset\n",
    "df_money = pd.read_csv('data/temp/movie_money_df')\n",
    "df_money['date'] = pd.to_datetime(df['date'])\n",
    "df_money.info()\n"
   ]
  },
  {
   "cell_type": "code",
   "execution_count": 6,
   "metadata": {},
   "outputs": [],
   "source": [
    "df_money['BUDGET_MIL'] = df_money['budget'] / 1000000\n",
    "df_money['REVENUE_MIL'] = df_money['revenue'] / 1000000"
   ]
  },
  {
   "cell_type": "code",
   "execution_count": 8,
   "metadata": {},
   "outputs": [
    {
     "data": {
      "text/plain": [
       "count     5312.000000\n",
       "mean         9.063112\n",
       "std        189.478998\n",
       "min          0.000210\n",
       "25%          0.799330\n",
       "50%          2.068035\n",
       "75%          4.239721\n",
       "max      12890.386667\n",
       "Name: PROFIT, dtype: float64"
      ]
     },
     "execution_count": 8,
     "metadata": {},
     "output_type": "execute_result"
    }
   ],
   "source": [
    "df_money['PROFIT'] = df_money['REVENUE_MIL'] / df_money['BUDGET_MIL']\n",
    "df_money['PROFIT'].describe()"
   ]
  },
  {
   "cell_type": "code",
   "execution_count": null,
   "metadata": {},
   "outputs": [],
   "source": []
  }
 ],
 "metadata": {
  "kernelspec": {
   "display_name": "Python 3",
   "language": "python",
   "name": "python3"
  },
  "language_info": {
   "codemirror_mode": {
    "name": "ipython",
    "version": 3
   },
   "file_extension": ".py",
   "mimetype": "text/x-python",
   "name": "python",
   "nbconvert_exporter": "python",
   "pygments_lexer": "ipython3",
   "version": "3.7.3"
  }
 },
 "nbformat": 4,
 "nbformat_minor": 2
}
